{
 "cells": [
  {
   "cell_type": "code",
   "execution_count": null,
   "id": "2982250a",
   "metadata": {},
   "outputs": [
    {
     "ename": "",
     "evalue": "",
     "output_type": "error",
     "traceback": [
      "\u001b[1;31mRunning cells with '.conda (Python 3.10.18)' requires the ipykernel package.\n",
      "\u001b[1;31mInstall 'ipykernel' into the Python environment. \n",
      "\u001b[1;31mCommand: 'conda install -n .conda ipykernel --update-deps --force-reinstall'"
     ]
    }
   ],
   "source": [
    "from get_data import fetch_mt5_data_between_dates\n",
    "from datetime import datetime , timedelta"
   ]
  },
  {
   "cell_type": "code",
   "execution_count": 2,
   "id": "4ec59821",
   "metadata": {},
   "outputs": [
    {
     "ename": "NameError",
     "evalue": "name 'mt5' is not defined",
     "output_type": "error",
     "traceback": [
      "\u001b[1;31m---------------------------------------------------------------------------\u001b[0m",
      "\u001b[1;31mNameError\u001b[0m                                 Traceback (most recent call last)",
      "Cell \u001b[1;32mIn[2], line 10\u001b[0m\n\u001b[0;32m      8\u001b[0m end_date \u001b[38;5;241m=\u001b[39m datetime\u001b[38;5;241m.\u001b[39mnow()\n\u001b[0;32m      9\u001b[0m start_date \u001b[38;5;241m=\u001b[39m end_date \u001b[38;5;241m-\u001b[39m timedelta(days\u001b[38;5;241m=\u001b[39m\u001b[38;5;241m5\u001b[39m)\n\u001b[1;32m---> 10\u001b[0m timeframe \u001b[38;5;241m=\u001b[39m \u001b[43mmt5\u001b[49m\u001b[38;5;241m.\u001b[39mTIMEFRAME_M15\n\u001b[0;32m     11\u001b[0m data_signal \u001b[38;5;241m=\u001b[39m fetch_mt5_data_between_dates (symbol, timeframe, start_date, end_date)\n",
      "\u001b[1;31mNameError\u001b[0m: name 'mt5' is not defined"
     ]
    }
   ],
   "source": [
    "## Get data from trainning\n",
    "symbol = 'XAUUSD'\n",
    "volume = 0.1\n",
    "tp = 100\n",
    "sl = 50\n",
    "lot_size = 100\n",
    "price = 3000\n",
    "end_date = datetime.now()\n",
    "start_date = end_date - timedelta(days=5)\n",
    "timeframe = mt5.TIMEFRAME_M15\n",
    "data_signal = fetch_mt5_data_between_dates (symbol, timeframe, start_date, end_date)"
   ]
  },
  {
   "cell_type": "code",
   "execution_count": null,
   "id": "5c51bcaa",
   "metadata": {},
   "outputs": [],
   "source": []
  }
 ],
 "metadata": {
  "kernelspec": {
   "display_name": ".conda",
   "language": "python",
   "name": "python3"
  },
  "language_info": {
   "codemirror_mode": {
    "name": "ipython",
    "version": 3
   },
   "file_extension": ".py",
   "mimetype": "text/x-python",
   "name": "python",
   "nbconvert_exporter": "python",
   "pygments_lexer": "ipython3",
   "version": "3.10.18"
  }
 },
 "nbformat": 4,
 "nbformat_minor": 5
}
